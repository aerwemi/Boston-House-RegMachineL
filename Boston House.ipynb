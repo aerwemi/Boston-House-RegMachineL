{
 "cells": [
  {
   "cell_type": "code",
   "execution_count": 2,
   "metadata": {
    "collapsed": true
   },
   "outputs": [],
   "source": [
    "import pandas as pd"
   ]
  },
  {
   "cell_type": "code",
   "execution_count": 22,
   "metadata": {
    "collapsed": true
   },
   "outputs": [],
   "source": [
    "df = pd.read_csv('housing.csv')"
   ]
  },
  {
   "cell_type": "code",
   "execution_count": 23,
   "metadata": {},
   "outputs": [
    {
     "data": {
      "text/html": [
       "<div>\n",
       "<style>\n",
       "    .dataframe thead tr:only-child th {\n",
       "        text-align: right;\n",
       "    }\n",
       "\n",
       "    .dataframe thead th {\n",
       "        text-align: left;\n",
       "    }\n",
       "\n",
       "    .dataframe tbody tr th {\n",
       "        vertical-align: top;\n",
       "    }\n",
       "</style>\n",
       "<table border=\"1\" class=\"dataframe\">\n",
       "  <thead>\n",
       "    <tr style=\"text-align: right;\">\n",
       "      <th></th>\n",
       "      <th>CRIM</th>\n",
       "      <th>ZN</th>\n",
       "      <th>INDUS</th>\n",
       "      <th>CHAS</th>\n",
       "      <th>NX</th>\n",
       "      <th>RM</th>\n",
       "      <th>AGE</th>\n",
       "      <th>DIS</th>\n",
       "      <th>RAD</th>\n",
       "      <th>TAX</th>\n",
       "      <th>PTRATIO</th>\n",
       "      <th>B</th>\n",
       "      <th>LSTAT</th>\n",
       "      <th>MEDV</th>\n",
       "    </tr>\n",
       "  </thead>\n",
       "  <tbody>\n",
       "    <tr>\n",
       "      <th>0</th>\n",
       "      <td>0.00632</td>\n",
       "      <td>18.0</td>\n",
       "      <td>2.31</td>\n",
       "      <td>0.0</td>\n",
       "      <td>0.538</td>\n",
       "      <td>6.575</td>\n",
       "      <td>65.2</td>\n",
       "      <td>4.0900</td>\n",
       "      <td>1</td>\n",
       "      <td>296.0</td>\n",
       "      <td>15.3</td>\n",
       "      <td>396.90</td>\n",
       "      <td>4.98</td>\n",
       "      <td>24.0</td>\n",
       "    </tr>\n",
       "    <tr>\n",
       "      <th>1</th>\n",
       "      <td>0.02731</td>\n",
       "      <td>0.0</td>\n",
       "      <td>7.07</td>\n",
       "      <td>0.0</td>\n",
       "      <td>0.469</td>\n",
       "      <td>6.421</td>\n",
       "      <td>78.9</td>\n",
       "      <td>4.9671</td>\n",
       "      <td>2</td>\n",
       "      <td>242.0</td>\n",
       "      <td>17.8</td>\n",
       "      <td>396.90</td>\n",
       "      <td>9.14</td>\n",
       "      <td>21.6</td>\n",
       "    </tr>\n",
       "    <tr>\n",
       "      <th>2</th>\n",
       "      <td>0.02729</td>\n",
       "      <td>0.0</td>\n",
       "      <td>7.07</td>\n",
       "      <td>0.0</td>\n",
       "      <td>0.469</td>\n",
       "      <td>7.185</td>\n",
       "      <td>61.1</td>\n",
       "      <td>4.9671</td>\n",
       "      <td>2</td>\n",
       "      <td>242.0</td>\n",
       "      <td>17.8</td>\n",
       "      <td>392.83</td>\n",
       "      <td>4.03</td>\n",
       "      <td>34.7</td>\n",
       "    </tr>\n",
       "    <tr>\n",
       "      <th>3</th>\n",
       "      <td>0.03237</td>\n",
       "      <td>0.0</td>\n",
       "      <td>2.18</td>\n",
       "      <td>0.0</td>\n",
       "      <td>0.458</td>\n",
       "      <td>6.998</td>\n",
       "      <td>45.8</td>\n",
       "      <td>6.0622</td>\n",
       "      <td>3</td>\n",
       "      <td>222.0</td>\n",
       "      <td>18.7</td>\n",
       "      <td>394.63</td>\n",
       "      <td>2.94</td>\n",
       "      <td>33.4</td>\n",
       "    </tr>\n",
       "    <tr>\n",
       "      <th>4</th>\n",
       "      <td>0.06905</td>\n",
       "      <td>0.0</td>\n",
       "      <td>2.18</td>\n",
       "      <td>0.0</td>\n",
       "      <td>0.458</td>\n",
       "      <td>7.147</td>\n",
       "      <td>54.2</td>\n",
       "      <td>6.0622</td>\n",
       "      <td>3</td>\n",
       "      <td>222.0</td>\n",
       "      <td>18.7</td>\n",
       "      <td>396.90</td>\n",
       "      <td>5.33</td>\n",
       "      <td>36.2</td>\n",
       "    </tr>\n",
       "  </tbody>\n",
       "</table>\n",
       "</div>"
      ],
      "text/plain": [
       "      CRIM    ZN  INDUS  CHAS     NX     RM   AGE     DIS  RAD    TAX  \\\n",
       "0  0.00632  18.0   2.31   0.0  0.538  6.575  65.2  4.0900    1  296.0   \n",
       "1  0.02731   0.0   7.07   0.0  0.469  6.421  78.9  4.9671    2  242.0   \n",
       "2  0.02729   0.0   7.07   0.0  0.469  7.185  61.1  4.9671    2  242.0   \n",
       "3  0.03237   0.0   2.18   0.0  0.458  6.998  45.8  6.0622    3  222.0   \n",
       "4  0.06905   0.0   2.18   0.0  0.458  7.147  54.2  6.0622    3  222.0   \n",
       "\n",
       "   PTRATIO       B  LSTAT  MEDV  \n",
       "0     15.3  396.90   4.98  24.0  \n",
       "1     17.8  396.90   9.14  21.6  \n",
       "2     17.8  392.83   4.03  34.7  \n",
       "3     18.7  394.63   2.94  33.4  \n",
       "4     18.7  396.90   5.33  36.2  "
      ]
     },
     "execution_count": 23,
     "metadata": {},
     "output_type": "execute_result"
    }
   ],
   "source": [
    "df.head()"
   ]
  },
  {
   "cell_type": "code",
   "execution_count": null,
   "metadata": {
    "collapsed": true
   },
   "outputs": [],
   "source": [
    "# RM Avg RM\n",
    "# CRIM craim rate\n",
    "# Medv the price in 2thousends for $"
   ]
  },
  {
   "cell_type": "code",
   "execution_count": 26,
   "metadata": {},
   "outputs": [],
   "source": [
    "df = df.dropna(axis=0, how='any')"
   ]
  },
  {
   "cell_type": "code",
   "execution_count": 27,
   "metadata": {},
   "outputs": [
    {
     "data": {
      "text/plain": [
       "(452, 14)"
      ]
     },
     "execution_count": 27,
     "metadata": {},
     "output_type": "execute_result"
    }
   ],
   "source": [
    "df.shape"
   ]
  },
  {
   "cell_type": "code",
   "execution_count": 28,
   "metadata": {
    "collapsed": true
   },
   "outputs": [],
   "source": [
    "X = df.drop('MEDV', axis = 1).values\n",
    "y = df['MEDV'].values"
   ]
  },
  {
   "cell_type": "code",
   "execution_count": 30,
   "metadata": {},
   "outputs": [],
   "source": [
    "# from one feateur \n",
    "X_rooms = X[:, 5]"
   ]
  },
  {
   "cell_type": "code",
   "execution_count": 31,
   "metadata": {},
   "outputs": [
    {
     "data": {
      "text/plain": [
       "array([ 6.575,  6.421,  7.185,  6.998,  7.147,  6.43 ,  6.012,  6.172,\n",
       "        5.631,  6.004,  6.377,  6.009,  5.889,  5.949,  6.096,  5.834,\n",
       "        5.935,  5.99 ,  5.456,  5.727,  5.57 ,  5.965,  6.142,  5.813,\n",
       "        5.924,  5.599,  5.813,  6.047,  6.495,  6.674,  5.713,  6.072,\n",
       "        5.95 ,  5.701,  6.096,  5.933,  5.841,  5.85 ,  5.966,  6.595,\n",
       "        7.024,  6.77 ,  6.169,  6.211,  6.069,  5.682,  5.786,  6.03 ,\n",
       "        5.399,  5.602,  5.963,  6.115,  6.511,  5.998,  5.888,  7.249,\n",
       "        6.383,  6.816,  6.145,  5.927,  5.741,  5.966,  6.456,  6.762,\n",
       "        7.104,  6.29 ,  5.787,  5.878,  5.594,  5.885,  6.417,  5.961,\n",
       "        6.065,  6.245,  6.273,  6.286,  6.279,  6.14 ,  6.232,  5.874,\n",
       "        6.727,  6.619,  6.302,  6.167,  6.389,  6.63 ,  6.015,  6.121,\n",
       "        7.007,  7.079,  6.417,  6.405,  6.442,  6.211,  6.249,  6.625,\n",
       "        6.163,  8.069,  7.82 ,  7.416,  6.727,  6.781,  6.405,  6.137,\n",
       "        6.167,  5.851,  5.836,  6.127,  6.474,  6.229,  6.195,  6.715,\n",
       "        5.913,  6.092,  6.254,  5.928,  6.176,  6.021,  5.872,  5.731,\n",
       "        5.87 ,  6.004,  5.961,  5.856,  5.879,  5.986,  5.613,  5.693,\n",
       "        6.431,  5.637,  6.458,  6.326,  6.372,  5.822,  5.757,  6.335,\n",
       "        5.942,  6.454,  5.857,  6.151,  6.174,  5.019,  5.403,  5.468,\n",
       "        4.903,  6.13 ,  5.628,  4.926,  5.186,  5.597,  6.122,  5.404,\n",
       "        5.012,  5.709,  6.129,  6.152,  5.272,  6.943,  6.066,  6.51 ,\n",
       "        6.25 ,  7.489,  7.802,  8.375,  5.854,  6.101,  7.929,  5.877,\n",
       "        6.319,  6.402,  5.875,  5.88 ,  5.572,  6.416,  5.859,  6.546,\n",
       "        6.02 ,  6.315,  6.86 ,  6.98 ,  7.765,  6.144,  7.155,  6.563,\n",
       "        5.604,  6.153,  7.831,  6.782,  6.556,  7.185,  6.951,  6.739,\n",
       "        7.178,  6.8  ,  6.604,  7.875,  7.287,  7.107,  7.274,  6.975,\n",
       "        7.135,  6.162,  7.61 ,  7.853,  8.034,  5.891,  6.326,  5.783,\n",
       "        6.064,  5.344,  5.96 ,  5.404,  5.807,  6.375,  5.412,  6.182,\n",
       "        5.888,  6.642,  5.951,  6.373,  6.951,  6.164,  6.879,  6.618,\n",
       "        8.266,  8.725,  8.04 ,  7.163,  7.686,  6.552,  5.981,  7.412,\n",
       "        8.337,  8.247,  6.726,  6.086,  6.631,  7.358,  6.481,  6.606,\n",
       "        6.897,  6.095,  6.358,  6.393,  5.593,  5.605,  6.108,  6.226,\n",
       "        6.433,  6.718,  6.487,  6.438,  6.957,  8.259,  6.108,  5.876,\n",
       "        7.454,  8.704,  7.333,  6.842,  7.203,  7.52 ,  8.398,  7.327,\n",
       "        7.206,  5.56 ,  7.014,  8.297,  7.47 ,  5.92 ,  5.856,  6.24 ,\n",
       "        6.538,  7.691,  6.758,  6.854,  7.267,  6.826,  6.482,  6.812,\n",
       "        7.82 ,  6.968,  7.645,  7.923,  7.088,  6.453,  6.23 ,  6.209,\n",
       "        6.315,  6.565,  6.861,  7.148,  6.63 ,  6.127,  6.009,  6.678,\n",
       "        6.549,  5.79 ,  6.345,  7.041,  6.871,  6.59 ,  6.495,  6.982,\n",
       "        7.236,  6.616,  7.42 ,  6.849,  6.635,  5.972,  4.973,  6.122,\n",
       "        6.023,  6.266,  6.567,  5.705,  5.914,  5.782,  6.382,  6.113,\n",
       "        6.426,  6.376,  6.041,  5.708,  6.415,  6.431,  6.312,  6.083,\n",
       "        5.868,  6.333,  6.144,  5.706,  6.031,  6.316,  6.31 ,  6.037,\n",
       "        5.869,  5.895,  6.059,  5.985,  5.968,  7.241,  6.54 ,  6.696,\n",
       "        6.874,  6.014,  5.898,  6.516,  6.635,  6.939,  6.49 ,  6.579,\n",
       "        5.884,  6.728,  5.663,  5.936,  6.212,  6.395,  6.127,  6.112,\n",
       "        6.398,  6.251,  5.362,  5.803,  8.78 ,  3.561,  4.963,  4.97 ,\n",
       "        6.683,  7.016,  6.216,  5.875,  6.794,  5.536,  5.52 ,  5.39 ,\n",
       "        5.713,  6.051,  6.193,  6.471,  6.405,  5.747,  5.852,  6.404,\n",
       "        5.617,  6.006,  6.103,  5.565,  6.193,  6.38 ,  6.348,  6.425,\n",
       "        6.436,  5.627,  6.406,  6.219,  6.485,  6.341,  6.251,  6.185,\n",
       "        6.417,  6.749,  6.655,  6.297,  7.393,  6.728,  6.525,  5.976,\n",
       "        5.936,  6.301,  6.081,  6.701,  6.376,  6.317,  6.513,  6.209,\n",
       "        5.759,  5.952,  6.003,  6.167,  6.229,  6.437,  6.98 ,  5.427,\n",
       "        6.162,  6.484,  6.242,  6.75 ,  7.061,  5.762,  5.871,  6.312,\n",
       "        6.114,  5.905,  5.454,  5.414,  5.093,  5.983,  5.983,  5.707,\n",
       "        5.926,  5.67 ,  5.39 ,  5.794,  6.019,  5.569,  6.027,  6.593,\n",
       "        6.12 ,  6.976,  6.794,  6.03 ])"
      ]
     },
     "execution_count": 31,
     "metadata": {},
     "output_type": "execute_result"
    }
   ],
   "source": [
    "X_rooms"
   ]
  },
  {
   "cell_type": "code",
   "execution_count": 32,
   "metadata": {
    "collapsed": true
   },
   "outputs": [],
   "source": [
    "y = y.reshape(-1,1)"
   ]
  },
  {
   "cell_type": "code",
   "execution_count": 34,
   "metadata": {},
   "outputs": [],
   "source": [
    "X_rooms = X_rooms.reshape(-1,1)"
   ]
  },
  {
   "cell_type": "code",
   "execution_count": 35,
   "metadata": {},
   "outputs": [
    {
     "data": {
      "text/plain": [
       "array([[ 6.575],\n",
       "       [ 6.421],\n",
       "       [ 7.185],\n",
       "       [ 6.998],\n",
       "       [ 7.147],\n",
       "       [ 6.43 ],\n",
       "       [ 6.012],\n",
       "       [ 6.172],\n",
       "       [ 5.631],\n",
       "       [ 6.004],\n",
       "       [ 6.377],\n",
       "       [ 6.009],\n",
       "       [ 5.889],\n",
       "       [ 5.949],\n",
       "       [ 6.096],\n",
       "       [ 5.834],\n",
       "       [ 5.935],\n",
       "       [ 5.99 ],\n",
       "       [ 5.456],\n",
       "       [ 5.727],\n",
       "       [ 5.57 ],\n",
       "       [ 5.965],\n",
       "       [ 6.142],\n",
       "       [ 5.813],\n",
       "       [ 5.924],\n",
       "       [ 5.599],\n",
       "       [ 5.813],\n",
       "       [ 6.047],\n",
       "       [ 6.495],\n",
       "       [ 6.674],\n",
       "       [ 5.713],\n",
       "       [ 6.072],\n",
       "       [ 5.95 ],\n",
       "       [ 5.701],\n",
       "       [ 6.096],\n",
       "       [ 5.933],\n",
       "       [ 5.841],\n",
       "       [ 5.85 ],\n",
       "       [ 5.966],\n",
       "       [ 6.595],\n",
       "       [ 7.024],\n",
       "       [ 6.77 ],\n",
       "       [ 6.169],\n",
       "       [ 6.211],\n",
       "       [ 6.069],\n",
       "       [ 5.682],\n",
       "       [ 5.786],\n",
       "       [ 6.03 ],\n",
       "       [ 5.399],\n",
       "       [ 5.602],\n",
       "       [ 5.963],\n",
       "       [ 6.115],\n",
       "       [ 6.511],\n",
       "       [ 5.998],\n",
       "       [ 5.888],\n",
       "       [ 7.249],\n",
       "       [ 6.383],\n",
       "       [ 6.816],\n",
       "       [ 6.145],\n",
       "       [ 5.927],\n",
       "       [ 5.741],\n",
       "       [ 5.966],\n",
       "       [ 6.456],\n",
       "       [ 6.762],\n",
       "       [ 7.104],\n",
       "       [ 6.29 ],\n",
       "       [ 5.787],\n",
       "       [ 5.878],\n",
       "       [ 5.594],\n",
       "       [ 5.885],\n",
       "       [ 6.417],\n",
       "       [ 5.961],\n",
       "       [ 6.065],\n",
       "       [ 6.245],\n",
       "       [ 6.273],\n",
       "       [ 6.286],\n",
       "       [ 6.279],\n",
       "       [ 6.14 ],\n",
       "       [ 6.232],\n",
       "       [ 5.874],\n",
       "       [ 6.727],\n",
       "       [ 6.619],\n",
       "       [ 6.302],\n",
       "       [ 6.167],\n",
       "       [ 6.389],\n",
       "       [ 6.63 ],\n",
       "       [ 6.015],\n",
       "       [ 6.121],\n",
       "       [ 7.007],\n",
       "       [ 7.079],\n",
       "       [ 6.417],\n",
       "       [ 6.405],\n",
       "       [ 6.442],\n",
       "       [ 6.211],\n",
       "       [ 6.249],\n",
       "       [ 6.625],\n",
       "       [ 6.163],\n",
       "       [ 8.069],\n",
       "       [ 7.82 ],\n",
       "       [ 7.416],\n",
       "       [ 6.727],\n",
       "       [ 6.781],\n",
       "       [ 6.405],\n",
       "       [ 6.137],\n",
       "       [ 6.167],\n",
       "       [ 5.851],\n",
       "       [ 5.836],\n",
       "       [ 6.127],\n",
       "       [ 6.474],\n",
       "       [ 6.229],\n",
       "       [ 6.195],\n",
       "       [ 6.715],\n",
       "       [ 5.913],\n",
       "       [ 6.092],\n",
       "       [ 6.254],\n",
       "       [ 5.928],\n",
       "       [ 6.176],\n",
       "       [ 6.021],\n",
       "       [ 5.872],\n",
       "       [ 5.731],\n",
       "       [ 5.87 ],\n",
       "       [ 6.004],\n",
       "       [ 5.961],\n",
       "       [ 5.856],\n",
       "       [ 5.879],\n",
       "       [ 5.986],\n",
       "       [ 5.613],\n",
       "       [ 5.693],\n",
       "       [ 6.431],\n",
       "       [ 5.637],\n",
       "       [ 6.458],\n",
       "       [ 6.326],\n",
       "       [ 6.372],\n",
       "       [ 5.822],\n",
       "       [ 5.757],\n",
       "       [ 6.335],\n",
       "       [ 5.942],\n",
       "       [ 6.454],\n",
       "       [ 5.857],\n",
       "       [ 6.151],\n",
       "       [ 6.174],\n",
       "       [ 5.019],\n",
       "       [ 5.403],\n",
       "       [ 5.468],\n",
       "       [ 4.903],\n",
       "       [ 6.13 ],\n",
       "       [ 5.628],\n",
       "       [ 4.926],\n",
       "       [ 5.186],\n",
       "       [ 5.597],\n",
       "       [ 6.122],\n",
       "       [ 5.404],\n",
       "       [ 5.012],\n",
       "       [ 5.709],\n",
       "       [ 6.129],\n",
       "       [ 6.152],\n",
       "       [ 5.272],\n",
       "       [ 6.943],\n",
       "       [ 6.066],\n",
       "       [ 6.51 ],\n",
       "       [ 6.25 ],\n",
       "       [ 7.489],\n",
       "       [ 7.802],\n",
       "       [ 8.375],\n",
       "       [ 5.854],\n",
       "       [ 6.101],\n",
       "       [ 7.929],\n",
       "       [ 5.877],\n",
       "       [ 6.319],\n",
       "       [ 6.402],\n",
       "       [ 5.875],\n",
       "       [ 5.88 ],\n",
       "       [ 5.572],\n",
       "       [ 6.416],\n",
       "       [ 5.859],\n",
       "       [ 6.546],\n",
       "       [ 6.02 ],\n",
       "       [ 6.315],\n",
       "       [ 6.86 ],\n",
       "       [ 6.98 ],\n",
       "       [ 7.765],\n",
       "       [ 6.144],\n",
       "       [ 7.155],\n",
       "       [ 6.563],\n",
       "       [ 5.604],\n",
       "       [ 6.153],\n",
       "       [ 7.831],\n",
       "       [ 6.782],\n",
       "       [ 6.556],\n",
       "       [ 7.185],\n",
       "       [ 6.951],\n",
       "       [ 6.739],\n",
       "       [ 7.178],\n",
       "       [ 6.8  ],\n",
       "       [ 6.604],\n",
       "       [ 7.875],\n",
       "       [ 7.287],\n",
       "       [ 7.107],\n",
       "       [ 7.274],\n",
       "       [ 6.975],\n",
       "       [ 7.135],\n",
       "       [ 6.162],\n",
       "       [ 7.61 ],\n",
       "       [ 7.853],\n",
       "       [ 8.034],\n",
       "       [ 5.891],\n",
       "       [ 6.326],\n",
       "       [ 5.783],\n",
       "       [ 6.064],\n",
       "       [ 5.344],\n",
       "       [ 5.96 ],\n",
       "       [ 5.404],\n",
       "       [ 5.807],\n",
       "       [ 6.375],\n",
       "       [ 5.412],\n",
       "       [ 6.182],\n",
       "       [ 5.888],\n",
       "       [ 6.642],\n",
       "       [ 5.951],\n",
       "       [ 6.373],\n",
       "       [ 6.951],\n",
       "       [ 6.164],\n",
       "       [ 6.879],\n",
       "       [ 6.618],\n",
       "       [ 8.266],\n",
       "       [ 8.725],\n",
       "       [ 8.04 ],\n",
       "       [ 7.163],\n",
       "       [ 7.686],\n",
       "       [ 6.552],\n",
       "       [ 5.981],\n",
       "       [ 7.412],\n",
       "       [ 8.337],\n",
       "       [ 8.247],\n",
       "       [ 6.726],\n",
       "       [ 6.086],\n",
       "       [ 6.631],\n",
       "       [ 7.358],\n",
       "       [ 6.481],\n",
       "       [ 6.606],\n",
       "       [ 6.897],\n",
       "       [ 6.095],\n",
       "       [ 6.358],\n",
       "       [ 6.393],\n",
       "       [ 5.593],\n",
       "       [ 5.605],\n",
       "       [ 6.108],\n",
       "       [ 6.226],\n",
       "       [ 6.433],\n",
       "       [ 6.718],\n",
       "       [ 6.487],\n",
       "       [ 6.438],\n",
       "       [ 6.957],\n",
       "       [ 8.259],\n",
       "       [ 6.108],\n",
       "       [ 5.876],\n",
       "       [ 7.454],\n",
       "       [ 8.704],\n",
       "       [ 7.333],\n",
       "       [ 6.842],\n",
       "       [ 7.203],\n",
       "       [ 7.52 ],\n",
       "       [ 8.398],\n",
       "       [ 7.327],\n",
       "       [ 7.206],\n",
       "       [ 5.56 ],\n",
       "       [ 7.014],\n",
       "       [ 8.297],\n",
       "       [ 7.47 ],\n",
       "       [ 5.92 ],\n",
       "       [ 5.856],\n",
       "       [ 6.24 ],\n",
       "       [ 6.538],\n",
       "       [ 7.691],\n",
       "       [ 6.758],\n",
       "       [ 6.854],\n",
       "       [ 7.267],\n",
       "       [ 6.826],\n",
       "       [ 6.482],\n",
       "       [ 6.812],\n",
       "       [ 7.82 ],\n",
       "       [ 6.968],\n",
       "       [ 7.645],\n",
       "       [ 7.923],\n",
       "       [ 7.088],\n",
       "       [ 6.453],\n",
       "       [ 6.23 ],\n",
       "       [ 6.209],\n",
       "       [ 6.315],\n",
       "       [ 6.565],\n",
       "       [ 6.861],\n",
       "       [ 7.148],\n",
       "       [ 6.63 ],\n",
       "       [ 6.127],\n",
       "       [ 6.009],\n",
       "       [ 6.678],\n",
       "       [ 6.549],\n",
       "       [ 5.79 ],\n",
       "       [ 6.345],\n",
       "       [ 7.041],\n",
       "       [ 6.871],\n",
       "       [ 6.59 ],\n",
       "       [ 6.495],\n",
       "       [ 6.982],\n",
       "       [ 7.236],\n",
       "       [ 6.616],\n",
       "       [ 7.42 ],\n",
       "       [ 6.849],\n",
       "       [ 6.635],\n",
       "       [ 5.972],\n",
       "       [ 4.973],\n",
       "       [ 6.122],\n",
       "       [ 6.023],\n",
       "       [ 6.266],\n",
       "       [ 6.567],\n",
       "       [ 5.705],\n",
       "       [ 5.914],\n",
       "       [ 5.782],\n",
       "       [ 6.382],\n",
       "       [ 6.113],\n",
       "       [ 6.426],\n",
       "       [ 6.376],\n",
       "       [ 6.041],\n",
       "       [ 5.708],\n",
       "       [ 6.415],\n",
       "       [ 6.431],\n",
       "       [ 6.312],\n",
       "       [ 6.083],\n",
       "       [ 5.868],\n",
       "       [ 6.333],\n",
       "       [ 6.144],\n",
       "       [ 5.706],\n",
       "       [ 6.031],\n",
       "       [ 6.316],\n",
       "       [ 6.31 ],\n",
       "       [ 6.037],\n",
       "       [ 5.869],\n",
       "       [ 5.895],\n",
       "       [ 6.059],\n",
       "       [ 5.985],\n",
       "       [ 5.968],\n",
       "       [ 7.241],\n",
       "       [ 6.54 ],\n",
       "       [ 6.696],\n",
       "       [ 6.874],\n",
       "       [ 6.014],\n",
       "       [ 5.898],\n",
       "       [ 6.516],\n",
       "       [ 6.635],\n",
       "       [ 6.939],\n",
       "       [ 6.49 ],\n",
       "       [ 6.579],\n",
       "       [ 5.884],\n",
       "       [ 6.728],\n",
       "       [ 5.663],\n",
       "       [ 5.936],\n",
       "       [ 6.212],\n",
       "       [ 6.395],\n",
       "       [ 6.127],\n",
       "       [ 6.112],\n",
       "       [ 6.398],\n",
       "       [ 6.251],\n",
       "       [ 5.362],\n",
       "       [ 5.803],\n",
       "       [ 8.78 ],\n",
       "       [ 3.561],\n",
       "       [ 4.963],\n",
       "       [ 4.97 ],\n",
       "       [ 6.683],\n",
       "       [ 7.016],\n",
       "       [ 6.216],\n",
       "       [ 5.875],\n",
       "       [ 6.794],\n",
       "       [ 5.536],\n",
       "       [ 5.52 ],\n",
       "       [ 5.39 ],\n",
       "       [ 5.713],\n",
       "       [ 6.051],\n",
       "       [ 6.193],\n",
       "       [ 6.471],\n",
       "       [ 6.405],\n",
       "       [ 5.747],\n",
       "       [ 5.852],\n",
       "       [ 6.404],\n",
       "       [ 5.617],\n",
       "       [ 6.006],\n",
       "       [ 6.103],\n",
       "       [ 5.565],\n",
       "       [ 6.193],\n",
       "       [ 6.38 ],\n",
       "       [ 6.348],\n",
       "       [ 6.425],\n",
       "       [ 6.436],\n",
       "       [ 5.627],\n",
       "       [ 6.406],\n",
       "       [ 6.219],\n",
       "       [ 6.485],\n",
       "       [ 6.341],\n",
       "       [ 6.251],\n",
       "       [ 6.185],\n",
       "       [ 6.417],\n",
       "       [ 6.749],\n",
       "       [ 6.655],\n",
       "       [ 6.297],\n",
       "       [ 7.393],\n",
       "       [ 6.728],\n",
       "       [ 6.525],\n",
       "       [ 5.976],\n",
       "       [ 5.936],\n",
       "       [ 6.301],\n",
       "       [ 6.081],\n",
       "       [ 6.701],\n",
       "       [ 6.376],\n",
       "       [ 6.317],\n",
       "       [ 6.513],\n",
       "       [ 6.209],\n",
       "       [ 5.759],\n",
       "       [ 5.952],\n",
       "       [ 6.003],\n",
       "       [ 6.167],\n",
       "       [ 6.229],\n",
       "       [ 6.437],\n",
       "       [ 6.98 ],\n",
       "       [ 5.427],\n",
       "       [ 6.162],\n",
       "       [ 6.484],\n",
       "       [ 6.242],\n",
       "       [ 6.75 ],\n",
       "       [ 7.061],\n",
       "       [ 5.762],\n",
       "       [ 5.871],\n",
       "       [ 6.312],\n",
       "       [ 6.114],\n",
       "       [ 5.905],\n",
       "       [ 5.454],\n",
       "       [ 5.414],\n",
       "       [ 5.093],\n",
       "       [ 5.983],\n",
       "       [ 5.983],\n",
       "       [ 5.707],\n",
       "       [ 5.926],\n",
       "       [ 5.67 ],\n",
       "       [ 5.39 ],\n",
       "       [ 5.794],\n",
       "       [ 6.019],\n",
       "       [ 5.569],\n",
       "       [ 6.027],\n",
       "       [ 6.593],\n",
       "       [ 6.12 ],\n",
       "       [ 6.976],\n",
       "       [ 6.794],\n",
       "       [ 6.03 ]])"
      ]
     },
     "execution_count": 35,
     "metadata": {},
     "output_type": "execute_result"
    }
   ],
   "source": [
    "X_rooms"
   ]
  },
  {
   "cell_type": "code",
   "execution_count": 36,
   "metadata": {
    "collapsed": true
   },
   "outputs": [],
   "source": [
    "import matplotlib.pyplot as plt"
   ]
  },
  {
   "cell_type": "code",
   "execution_count": 40,
   "metadata": {},
   "outputs": [
    {
     "data": {
      "image/png": "[encoded data removed]",
      "text/plain": [
       "<matplotlib.figure.Figure at 0x1e9bc99a518>"
      ]
     },
     "metadata": {},
     "output_type": "display_data"
    }
   ],
   "source": [
    "plt.scatter(X_rooms,y)\n",
    "plt.ylabel('Value of house / 1000($)')\n",
    "plt.xlabel('Number of rooms')\n",
    "plt.show();"
   ]
  },
  {
   "cell_type": "code",
   "execution_count": 42,
   "metadata": {
    "collapsed": true
   },
   "outputs": [],
   "source": [
    "import numpy as np\n",
    "from sklearn import linear_model\n"
   ]
  },
  {
   "cell_type": "code",
   "execution_count": 43,
   "metadata": {
    "collapsed": true
   },
   "outputs": [],
   "source": [
    "reg = linear_model.LinearRegression()"
   ]
  },
  {
   "cell_type": "code",
   "execution_count": 45,
   "metadata": {},
   "outputs": [
    {
     "data": {
      "text/plain": [
       "LinearRegression(copy_X=True, fit_intercept=True, n_jobs=1, normalize=False)"
      ]
     },
     "execution_count": 45,
     "metadata": {},
     "output_type": "execute_result"
    }
   ],
   "source": [
    "# fit regressor to data\n",
    "reg.fit(X_rooms,y)"
   ]
  },
  {
   "cell_type": "code",
   "execution_count": 48,
   "metadata": {},
   "outputs": [
    {
     "data": {
      "text/plain": [
       "array([[ 3.561     ],\n",
       "       [ 3.6675102 ],\n",
       "       [ 3.77402041],\n",
       "       [ 3.88053061],\n",
       "       [ 3.98704082],\n",
       "       [ 4.09355102],\n",
       "       [ 4.20006122],\n",
       "       [ 4.30657143],\n",
       "       [ 4.41308163],\n",
       "       [ 4.51959184],\n",
       "       [ 4.62610204],\n",
       "       [ 4.73261224],\n",
       "       [ 4.83912245],\n",
       "       [ 4.94563265],\n",
       "       [ 5.05214286],\n",
       "       [ 5.15865306],\n",
       "       [ 5.26516327],\n",
       "       [ 5.37167347],\n",
       "       [ 5.47818367],\n",
       "       [ 5.58469388],\n",
       "       [ 5.69120408],\n",
       "       [ 5.79771429],\n",
       "       [ 5.90422449],\n",
       "       [ 6.01073469],\n",
       "       [ 6.1172449 ],\n",
       "       [ 6.2237551 ],\n",
       "       [ 6.33026531],\n",
       "       [ 6.43677551],\n",
       "       [ 6.54328571],\n",
       "       [ 6.64979592],\n",
       "       [ 6.75630612],\n",
       "       [ 6.86281633],\n",
       "       [ 6.96932653],\n",
       "       [ 7.07583673],\n",
       "       [ 7.18234694],\n",
       "       [ 7.28885714],\n",
       "       [ 7.39536735],\n",
       "       [ 7.50187755],\n",
       "       [ 7.60838776],\n",
       "       [ 7.71489796],\n",
       "       [ 7.82140816],\n",
       "       [ 7.92791837],\n",
       "       [ 8.03442857],\n",
       "       [ 8.14093878],\n",
       "       [ 8.24744898],\n",
       "       [ 8.35395918],\n",
       "       [ 8.46046939],\n",
       "       [ 8.56697959],\n",
       "       [ 8.6734898 ],\n",
       "       [ 8.78      ]])"
      ]
     },
     "execution_count": 48,
     "metadata": {},
     "output_type": "execute_result"
    }
   ],
   "source": [
    "preiction_space = np.linspace(min(X_rooms), max(X_rooms)).reshape(-1,1)\n",
    "preiction_space"
   ]
  },
  {
   "cell_type": "code",
   "execution_count": 51,
   "metadata": {},
   "outputs": [
    {
     "data": {
      "image/png": "[encoded data removed]",
      "text/plain": [
       "<matplotlib.figure.Figure at 0x1e9be7e3550>"
      ]
     },
     "metadata": {},
     "output_type": "display_data"
    }
   ],
   "source": [
    "plt.scatter(X_rooms, y, color='blue')\n",
    "plt.plot(preiction_space, reg.predict(preiction_space), color='black', linewidth=3)\n",
    "plt.show()"
   ]
  },
  {
   "cell_type": "code",
   "execution_count": 52,
   "metadata": {
    "collapsed": true
   },
   "outputs": [],
   "source": [
    "import seaborn as sns"
   ]
  },
  {
   "cell_type": "code",
   "execution_count": 55,
   "metadata": {},
   "outputs": [
    {
     "data": {
      "image/png": "[encoded data removed]",
      "text/plain": [
       "<matplotlib.figure.Figure at 0x1e9be847e10>"
      ]
     },
     "metadata": {},
     "output_type": "display_data"
    }
   ],
   "source": [
    "sns.heatmap(df.corr(), square=True, cmap='RdYlGn')\n",
    "plt.show()"
   ]
  },
  {
   "cell_type": "code",
   "execution_count": 56,
   "metadata": {
    "collapsed": true
   },
   "outputs": [],
   "source": [
    "# OLS minimize sum of squares of residuals"
   ]
  },
  {
   "cell_type": "code",
   "execution_count": 57,
   "metadata": {
    "collapsed": true
   },
   "outputs": [],
   "source": [
    "from sklearn.model_selection import train_test_split"
   ]
  },
  {
   "cell_type": "code",
   "execution_count": 61,
   "metadata": {},
   "outputs": [
    {
     "data": {
      "text/plain": [
       "(452, 14)"
      ]
     },
     "execution_count": 61,
     "metadata": {},
     "output_type": "execute_result"
    }
   ],
   "source": [
    "df = pd.read_csv('housing.csv')\n",
    "\n",
    "df = df.dropna(axis=0, how='any')\n",
    "\n",
    "X = df.drop('MEDV', axis = 1).values\n",
    "y = df['MEDV'].values\n",
    "\n",
    "df.shape"
   ]
  },
  {
   "cell_type": "code",
   "execution_count": 62,
   "metadata": {
    "collapsed": true
   },
   "outputs": [],
   "source": [
    "# Create training and test sets\n",
    "X_train, X_test, y_train, y_test = train_test_split(X,y, test_size = .3, random_state=42)"
   ]
  },
  {
   "cell_type": "code",
   "execution_count": 65,
   "metadata": {},
   "outputs": [],
   "source": [
    "# Create the regressor: reg_all\n",
    "reg_all = linear_model.LinearRegression()"
   ]
  },
  {
   "cell_type": "code",
   "execution_count": 66,
   "metadata": {},
   "outputs": [
    {
     "data": {
      "text/plain": [
       "LinearRegression(copy_X=True, fit_intercept=True, n_jobs=1, normalize=False)"
      ]
     },
     "execution_count": 66,
     "metadata": {},
     "output_type": "execute_result"
    }
   ],
   "source": [
    "# Fit the regressor to the training data\n",
    "reg_all.fit(X_train, y_train)"
   ]
  },
  {
   "cell_type": "code",
   "execution_count": 67,
   "metadata": {
    "collapsed": true
   },
   "outputs": [],
   "source": [
    "# Predict on the test data: y_pred\n",
    "y_pred = reg_all.predict(X_test)"
   ]
  },
  {
   "cell_type": "code",
   "execution_count": 68,
   "metadata": {},
   "outputs": [
    {
     "data": {
      "text/plain": [
       "array([ 32.65371141,  31.41867076,  19.86688216,  23.25767195,\n",
       "        17.19873221,  36.65378156,  33.6060798 ,  26.64348379,\n",
       "        18.31349337,  10.63860281,  25.17944495,  24.52791376,\n",
       "        14.74203493,  24.31149385,  16.1014848 ,  31.59537721,\n",
       "        15.9240267 ,  32.80998691,  16.86203143,  26.12188393,\n",
       "        23.76172274,  21.03261025,  21.22564459,  23.5706705 ,\n",
       "        44.29375922,  23.98863229,  22.67239304,  13.63538371,\n",
       "        18.08456539,  20.99729041,  20.65435344,  12.06861512,\n",
       "        12.88257712,  20.61311151,  20.63430815,  22.92565149,\n",
       "        30.49062977,  18.03587773,  20.11819794,  21.68508627,\n",
       "        32.24606721,  27.15330814,  29.2596217 ,  24.93325171,\n",
       "        22.6875134 ,  24.53621408,  26.33013077,  35.8506766 ,\n",
       "        17.23224918,  29.43821831,  34.10295309,  13.30700986,\n",
       "        14.61614943,  22.75532065,  12.67522264,  17.35703326,\n",
       "        20.76260892,  18.54729112,  19.23518249,  20.83531991,\n",
       "        24.64403862,  30.2006765 ,  17.97308957,  26.94582267,\n",
       "        28.68778356,  24.39083332,  39.66384129,  22.28063388,\n",
       "        18.94295681,  14.83741228,  21.47616893,  18.45864646,\n",
       "        12.20199967,  23.5818625 ,  33.97592357,  32.58777472,\n",
       "        25.75297104,  15.13201205,  19.14006099,  23.72359414,\n",
       "        31.58623228,  26.45655995,  34.97257763,  15.69581553,\n",
       "        20.16945808,  15.36875437,  24.6043362 ,  20.57624065,\n",
       "        29.36694313,  32.39632559,  34.10720806,  15.14868971,\n",
       "        16.65256563,  24.38488825,  29.06635828,  19.69164748,\n",
       "        17.40560707,  24.96513555,  17.64744452,  13.97386606,\n",
       "        24.11879157,  22.95290781,  26.48227361,  11.33817893,\n",
       "        26.10008813,  28.46504031,  34.65501752,  17.76514654,\n",
       "        21.36648902,  17.37072255,  25.05293757,  21.58506623,\n",
       "        33.95299595,  20.3634323 ,  12.01095737,  19.31475262,\n",
       "        21.05820899,  16.41739951,  18.14538699,  22.79379922,\n",
       "        29.3884425 ,  15.63619171,  21.4724954 ,  16.55335965,\n",
       "        33.08415616,  32.00303853,  28.65372869,  23.01089701,\n",
       "        21.39098285,  27.22714058,  32.15430209,  21.31742256,\n",
       "         9.7519558 ,  27.12650802,  14.75363715,  18.81368589])"
      ]
     },
     "execution_count": 68,
     "metadata": {},
     "output_type": "execute_result"
    }
   ],
   "source": [
    "y_pred"
   ]
  },
  {
   "cell_type": "code",
   "execution_count": 69,
   "metadata": {},
   "outputs": [
    {
     "data": {
      "text/plain": [
       "0.67911848844743528"
      ]
     },
     "execution_count": 69,
     "metadata": {},
     "output_type": "execute_result"
    }
   ],
   "source": [
    "reg_all.score(X_test, y_test)"
   ]
  },
  {
   "cell_type": "code",
   "execution_count": 71,
   "metadata": {},
   "outputs": [
    {
     "name": "stdout",
     "output_type": "stream",
     "text": [
      "R^2: 0.6791184884474353\n",
      "Root Mean Squared Error: 4.33095264239303\n"
     ]
    }
   ],
   "source": [
    "# Import necessary modules\n",
    "from sklearn.linear_model import LinearRegression\n",
    "from sklearn.metrics import mean_squared_error\n",
    "from sklearn.model_selection import train_test_split\n",
    "\n",
    "# Create the regressor: reg_all\n",
    "reg_all = LinearRegression()\n",
    "\n",
    "# Fit the regressor to the training data\n",
    "reg_all.fit(X_train, y_train)\n",
    "\n",
    "# Predict on the test data: y_pred\n",
    "y_pred = reg_all.predict(X_test)\n",
    "\n",
    "# Compute and print R^2 and RMSE\n",
    "print(\"R^2: {}\".format(reg_all.score(X_test, y_test)))\n",
    "rmse = np.sqrt(mean_squared_error(y_test, y_pred))\n",
    "print(\"Root Mean Squared Error: {}\".format(rmse))"
   ]
  },
  {
   "cell_type": "code",
   "execution_count": 73,
   "metadata": {
    "collapsed": true
   },
   "outputs": [],
   "source": [
    "# cross validation in slearn \n",
    "from sklearn.model_selection import cross_val_score"
   ]
  },
  {
   "cell_type": "code",
   "execution_count": 83,
   "metadata": {},
   "outputs": [
    {
     "data": {
      "text/plain": [
       "LinearRegression(copy_X=True, fit_intercept=True, n_jobs=1, normalize=False)"
      ]
     },
     "execution_count": 83,
     "metadata": {},
     "output_type": "execute_result"
    }
   ],
   "source": [
    "reg_all"
   ]
  },
  {
   "cell_type": "code",
   "execution_count": 82,
   "metadata": {},
   "outputs": [
    {
     "data": {
      "text/plain": [
       "sklearn.linear_model.base.LinearRegression"
      ]
     },
     "execution_count": 82,
     "metadata": {},
     "output_type": "execute_result"
    }
   ],
   "source": [
    "linear_model.LinearRegression"
   ]
  },
  {
   "cell_type": "code",
   "execution_count": 84,
   "metadata": {},
   "outputs": [],
   "source": [
    "cv_results = cross_val_score(reg_all, X, y, cv=5)"
   ]
  },
  {
   "cell_type": "code",
   "execution_count": 79,
   "metadata": {},
   "outputs": [
    {
     "data": {
      "text/plain": [
       "array([ 0.61477003,  0.72115437,  0.58159863,  0.77360544, -0.25787756])"
      ]
     },
     "execution_count": 79,
     "metadata": {},
     "output_type": "execute_result"
    }
   ],
   "source": [
    "cv_results"
   ]
  },
  {
   "cell_type": "code",
   "execution_count": 86,
   "metadata": {},
   "outputs": [
    {
     "data": {
      "text/plain": [
       "0.48665018217197425"
      ]
     },
     "execution_count": 86,
     "metadata": {},
     "output_type": "execute_result"
    }
   ],
   "source": [
    "np.mean(cv_results)"
   ]
  },
  {
   "cell_type": "markdown",
   "metadata": {},
   "source": [
    "Cross-validation is a vital step in evaluating a model. It maximizes the amount of data that is used to train the model, as during the course of training, the model is not only trained, but also tested on all of the available data.\n",
    "In this exercise, you will practice 5-fold cross validation on the Gapminder data. By default, scikit-learn's cross_val_score() function uses \n",
    "R\n",
    "2\n",
    "R2\n",
    "as the metric of choice for regression. Since you are performing 5-fold cross-validation, the function will return 5 scores. Your job is to compute these 5 scores and then take their average."
   ]
  },
  {
   "cell_type": "code",
   "execution_count": 88,
   "metadata": {},
   "outputs": [
    {
     "name": "stdout",
     "output_type": "stream",
     "text": [
      "[ 0.61477003  0.72115437  0.58159863  0.77360544 -0.25787756]\n",
      "Average 5-Fold CV Score: 0.48665018217197425\n"
     ]
    }
   ],
   "source": [
    "# Import the necessary modules\n",
    "from sklearn.linear_model import LinearRegression\n",
    "from sklearn.model_selection import cross_val_score\n",
    "\n",
    "# Create a linear regression object: reg\n",
    "reg = LinearRegression()\n",
    "\n",
    "# Compute 5-fold cross-validation scores: cv_scores\n",
    "cv_scores = cross_val_score(reg, X, y, cv=5)\n",
    "\n",
    "# Print the 5-fold cross-validation scores\n",
    "print(cv_scores)\n",
    "\n",
    "print(\"Average 5-Fold CV Score: {}\".format(cv_scores.mean()))\n"
   ]
  },
  {
   "cell_type": "code",
   "execution_count": 89,
   "metadata": {},
   "outputs": [
    {
     "name": "stdout",
     "output_type": "stream",
     "text": [
      "0.195409182227\n",
      "0.536576184291\n"
     ]
    }
   ],
   "source": [
    "# Import necessary modules\n",
    "from sklearn.linear_model import LinearRegression\n",
    "from sklearn.model_selection import cross_val_score\n",
    "\n",
    "# Create a linear regression object: reg\n",
    "reg = LinearRegression()\n",
    "\n",
    "# Perform 3-fold CV\n",
    "cvscores_3 = cross_val_score(reg, X, y, cv=3)\n",
    "print(np.mean(cvscores_3))\n",
    "\n",
    "# Perform 10-fold CV\n",
    "cvscores_10 = cross_val_score(reg, X, y, cv=10)\n",
    "print(np.mean(cvscores_10))"
   ]
  },
  {
   "cell_type": "code",
   "execution_count": 90,
   "metadata": {
    "collapsed": true
   },
   "outputs": [],
   "source": [
    "# why regularize?\n",
    "# alter loss function\n",
    "# penalizing large coeff : regularization"
   ]
  },
  {
   "cell_type": "code",
   "execution_count": 92,
   "metadata": {
    "collapsed": true
   },
   "outputs": [],
   "source": [
    "# ridge regression\n",
    "# alpha 0 back OLS no second term Alpha * sum ai**2\n",
    "# very high alpha can lead to under fitting - panlize too much"
   ]
  },
  {
   "cell_type": "code",
   "execution_count": 93,
   "metadata": {
    "collapsed": true
   },
   "outputs": [],
   "source": [
    "from sklearn.linear_model import Ridge"
   ]
  },
  {
   "cell_type": "code",
   "execution_count": 94,
   "metadata": {
    "collapsed": true
   },
   "outputs": [],
   "source": [
    "# Create training and test sets\n",
    "X_train, X_test, y_train, y_test = train_test_split(X,y, test_size = .3, random_state=42)"
   ]
  },
  {
   "cell_type": "code",
   "execution_count": 105,
   "metadata": {},
   "outputs": [
    {
     "data": {
      "text/plain": [
       "Ridge(alpha=0.25, copy_X=True, fit_intercept=True, max_iter=None,\n",
       "   normalize=True, random_state=None, solver='auto', tol=0.001)"
      ]
     },
     "execution_count": 105,
     "metadata": {},
     "output_type": "execute_result"
    }
   ],
   "source": [
    "ridge = Ridge(alpha=.25, normalize = True) # Normalize all variable are in same scale \n",
    "ridge.fit(X_train, y_train)"
   ]
  },
  {
   "cell_type": "code",
   "execution_count": 106,
   "metadata": {
    "collapsed": true
   },
   "outputs": [],
   "source": [
    "ridge_pred = ridge.predict(X_test)"
   ]
  },
  {
   "cell_type": "code",
   "execution_count": 107,
   "metadata": {},
   "outputs": [
    {
     "data": {
      "text/plain": [
       "0.67022972469931519"
      ]
     },
     "execution_count": 107,
     "metadata": {},
     "output_type": "execute_result"
    }
   ],
   "source": [
    "ridge.score(X_test, y_test)"
   ]
  },
  {
   "cell_type": "code",
   "execution_count": 135,
   "metadata": {
    "collapsed": true
   },
   "outputs": [],
   "source": [
    "def display_plot(cv_scores, cv_scores_std):\n",
    "    fig = plt.figure()\n",
    "    ax = fig.add_subplot(1,1,1)\n",
    "    ax.plot(alpha_space, cv_scores)\n",
    "\n",
    "    std_error = cv_scores_std / np.sqrt(10)\n",
    "\n",
    "    ax.fill_between(alpha_space, cv_scores + std_error, cv_scores - std_error, alpha=0.2)\n",
    "    ax.set_ylabel('CV Score +/- Std Error')\n",
    "    ax.set_xlabel('Alpha')\n",
    "    ax.axhline(np.max(cv_scores), linestyle='--', color='.5')\n",
    "    ax.set_xlim([alpha_space[0], alpha_space[-1]])\n",
    "    ax.set_xscale('log')\n",
    "    plt.show()"
   ]
  },
  {
   "cell_type": "code",
   "execution_count": 136,
   "metadata": {},
   "outputs": [
    {
     "data": {
      "image/png": "[encoded data removed]",
      "text/plain": [
       "<matplotlib.figure.Figure at 0x1e9bca674a8>"
      ]
     },
     "metadata": {},
     "output_type": "display_data"
    }
   ],
   "source": [
    "# Ridge\n",
    "# Import necessary modules\n",
    "from sklearn.linear_model import Ridge\n",
    "from sklearn.model_selection import cross_val_score\n",
    "\n",
    "# Setup the array of alphas and lists to store scores\n",
    "alpha_space = np.logspace(-4, 0, 50)\n",
    "ridge_scores = []\n",
    "ridge_scores_std = []\n",
    "\n",
    "# Create a ridge regressor: ridge\n",
    "ridge = Ridge(normalize=True)\n",
    "\n",
    "# Compute scores over range of alphas\n",
    "for alpha in alpha_space:\n",
    "\n",
    "    # Specify the alpha value to use: ridge.alpha\n",
    "    ridge.alpha = alpha\n",
    "    \n",
    "    # Perform 10-fold CV: ridge_cv_scores\n",
    "    ridge_cv_scores = cross_val_score(ridge, X, y, cv=10)\n",
    "    \n",
    "    # Append the mean of ridge_cv_scores to ridge_scores\n",
    "    ridge_scores.append(np.mean(ridge_cv_scores))\n",
    "    \n",
    "    # Append the std of ridge_cv_scores to ridge_scores_std\n",
    "    ridge_scores_std.append(np.std(ridge_cv_scores))\n",
    "\n",
    "# Display the plot\n",
    "display_plot(ridge_scores, ridge_scores_std)\n"
   ]
  },
  {
   "cell_type": "code",
   "execution_count": 108,
   "metadata": {
    "collapsed": true
   },
   "outputs": [],
   "source": [
    "# Lasso - OLS function pulse alpah * abslute value of coff over sum "
   ]
  },
  {
   "cell_type": "code",
   "execution_count": 113,
   "metadata": {},
   "outputs": [
    {
     "data": {
      "text/plain": [
       "Lasso(alpha=0.1, copy_X=True, fit_intercept=True, max_iter=1000,\n",
       "   normalize=True, positive=False, precompute=False, random_state=None,\n",
       "   selection='cyclic', tol=0.0001, warm_start=False)"
      ]
     },
     "execution_count": 113,
     "metadata": {},
     "output_type": "execute_result"
    }
   ],
   "source": [
    "from sklearn.linear_model import Lasso\n",
    "# Create training and test sets\n",
    "X_train, X_test, y_train, y_test = train_test_split(X,y, test_size = .3, random_state=42)\n",
    "\n",
    "lasso = Lasso(alpha=.1, normalize = True) # Normalize all variable are in same scale \n",
    "lasso.fit(X_train, y_train)"
   ]
  },
  {
   "cell_type": "code",
   "execution_count": 114,
   "metadata": {},
   "outputs": [],
   "source": [
    "lasso_pred = lasso.predict(X_test)"
   ]
  },
  {
   "cell_type": "code",
   "execution_count": 115,
   "metadata": {},
   "outputs": [
    {
     "data": {
      "text/plain": [
       "0.58012173130308553"
      ]
     },
     "execution_count": 115,
     "metadata": {},
     "output_type": "execute_result"
    }
   ],
   "source": [
    "lasso.score(X_test, y_test)"
   ]
  },
  {
   "cell_type": "code",
   "execution_count": 116,
   "metadata": {
    "collapsed": true
   },
   "outputs": [],
   "source": [
    "# lasso can select important features of the dataset "
   ]
  },
  {
   "cell_type": "code",
   "execution_count": null,
   "metadata": {
    "collapsed": true
   },
   "outputs": [],
   "source": [
    "from sklearn.linear_model import Lasso"
   ]
  },
  {
   "cell_type": "code",
   "execution_count": 126,
   "metadata": {},
   "outputs": [
    {
     "data": {
      "text/plain": [
       "Index(['CRIM', 'ZN', 'INDUS', 'CHAS', 'NX', 'RM', 'AGE', 'DIS', 'RAD', 'TAX',\n",
       "       'PTRATIO', 'B', 'LSTAT'],\n",
       "      dtype='object')"
      ]
     },
     "execution_count": 126,
     "metadata": {},
     "output_type": "execute_result"
    }
   ],
   "source": [
    "df = pd.read_csv('housing.csv')\n",
    "\n",
    "df = df.dropna(axis=0, how='any')\n",
    "\n",
    "names = df.drop('MEDV', axis = 1).columns\n",
    "#y = df['MEDV'].values\n",
    "names"
   ]
  },
  {
   "cell_type": "code",
   "execution_count": 127,
   "metadata": {
    "collapsed": true
   },
   "outputs": [],
   "source": [
    "lasso = Lasso(alpha=.1)"
   ]
  },
  {
   "cell_type": "code",
   "execution_count": 128,
   "metadata": {
    "collapsed": true
   },
   "outputs": [],
   "source": [
    "lasso_coef = lasso.fit(X,y).coef_"
   ]
  },
  {
   "cell_type": "code",
   "execution_count": 129,
   "metadata": {},
   "outputs": [
    {
     "data": {
      "image/png": "[encoded data removed]",
      "text/plain": [
       "<matplotlib.figure.Figure at 0x1e9bf897ef0>"
      ]
     },
     "metadata": {},
     "output_type": "display_data"
    }
   ],
   "source": [
    "plt.plot(range(len(names)), lasso_coef)\n",
    "plt.xticks(range(len(names)), names, rotation=60)\n",
    "plt.ylabel('Coefficients')\n",
    "plt.show()"
   ]
  },
  {
   "cell_type": "code",
   "execution_count": 133,
   "metadata": {},
   "outputs": [
    {
     "name": "stdout",
     "output_type": "stream",
     "text": [
      "[ -0.00000000e+00   0.00000000e+00  -0.00000000e+00   0.00000000e+00\n",
      "  -0.00000000e+00   5.16110192e+00  -0.00000000e+00  -0.00000000e+00\n",
      "  -0.00000000e+00  -0.00000000e+00  -4.59981073e-01   2.01642323e-05\n",
      "  -4.48292959e-01]\n"
     ]
    },
    {
     "data": {
      "image/png": "[encoded data removed]",
      "text/plain": [
       "<matplotlib.figure.Figure at 0x1e9bf6fed68>"
      ]
     },
     "metadata": {},
     "output_type": "display_data"
    }
   ],
   "source": [
    "# practice \n",
    "# Import Lasso\n",
    "from sklearn.linear_model import Lasso\n",
    "\n",
    "# Instantiate a lasso regressor: lasso\n",
    "lasso = Lasso(alpha=0.05, normalize=True)\n",
    "\n",
    "# Fit the regressor to the data\n",
    "lasso.fit(X, y)\n",
    "\n",
    "# Compute and print the coefficients\n",
    "lasso_coef = lasso.coef_\n",
    "print(lasso_coef)\n",
    "\n",
    "# Plot the coefficients\n",
    "plt.plot(range(len(names)), lasso_coef)\n",
    "plt.xticks(range(len(names)), names.values, rotation=60)\n",
    "plt.margins(0.02)\n",
    "plt.show()"
   ]
  },
  {
   "cell_type": "code",
   "execution_count": null,
   "metadata": {
    "collapsed": true
   },
   "outputs": [],
   "source": []
  }
 ],
 "metadata": {
  "kernelspec": {
   "display_name": "Python 3",
   "language": "python",
   "name": "python3"
  },
  "language_info": {
   "codemirror_mode": {
    "name": "ipython",
    "version": 3
   },
   "file_extension": ".py",
   "mimetype": "text/x-python",
   "name": "python",
   "nbconvert_exporter": "python",
   "pygments_lexer": "ipython3",
   "version": "3.6.1"
  }
 },
 "nbformat": 4,
 "nbformat_minor": 2
}
